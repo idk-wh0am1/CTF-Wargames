{
 "cells": [
  {
   "attachments": {},
   "cell_type": "markdown",
   "metadata": {},
   "source": [
    "# XOR Starter\n",
    "\n",
    "XOR is a bitwise operator which returns 0 if the bits are the same, and 1 otherwise. In textbooks the XOR operator is denoted by ⊕, but in most challenges and programming languages you will see the caret ^ used instead.\n",
    "\n",
    "<p align=\"center\">\n",
    "    <img src=\"./images/xor_starter.png\">\n",
    "</p>\n",
    "\n",
    "For longer binary numbers we XOR bit by bit: `0110 ^ 1010 = 1100`. We can XOR integers by first converting the integer from decimal to binary. We can XOR strings by first converting each character to the integer representing the Unicode character.\n",
    "\n",
    "Given the string `label`, XOR each character with the integer `13`. Convert these integers back to a string and submit the flag as `crypto{new_string}`.\n",
    "\n",
    "> The Python `pwntools` library has a convenient `xor()` function that can XOR together data of different types and lengths. But first, you may want to implement your own function to solve this."
   ]
  },
  {
   "attachments": {},
   "cell_type": "markdown",
   "metadata": {},
   "source": [
    "## Solution"
   ]
  },
  {
   "cell_type": "code",
   "execution_count": 2,
   "metadata": {},
   "outputs": [
    {
     "name": "stdout",
     "output_type": "stream",
     "text": [
      "Flag: crypto{aloha}\n"
     ]
    }
   ],
   "source": [
    "m = list(b\"label\")\n",
    "c = [x ^ 13 for x in m]\n",
    "\n",
    "flag = \"crypto{\" + bytes(c).decode() + \"}\"\n",
    "print(\"Flag: \" + flag)"
   ]
  },
  {
   "attachments": {},
   "cell_type": "markdown",
   "metadata": {},
   "source": [
    "### Flag: crypto{aloha}"
   ]
  },
  {
   "attachments": {},
   "cell_type": "markdown",
   "metadata": {},
   "source": [
    "# XOR Properties\n",
    "\n",
    "In the last challenge, you saw how XOR worked at the level of bits. In this one, we're going to cover the properties of the XOR operation and then use them to undo a chain of operations that have encrypted a flag. Gaining an intuition for how this works will help greatly when you come to attacking real cryptosystems later, especially in the block ciphers category.\n",
    "\n",
    "There are four main properties we should consider when we solve challenges using the XOR operator\n",
    "\n",
    "> Commutative: $A \\oplus B = B \\oplus A$\n",
    "\n",
    "> Associative: $A \\oplus (B \\oplus C) = (A \\oplus B) \\oplus C$ \n",
    "\n",
    "> Identity: $A \\oplus 0 = A$ \n",
    "\n",
    "> Self-Inverse: $A \\oplus A = 0$\n",
    "\n",
    "Let's break this down. Commutative means that the order of the XOR operations is not important. Associative means that a chain of operations can be carried out without order (we do not need to worry about brackets). The identity is 0, so XOR with 0 \"does nothing\", and lastly something XOR'd with itself returns zero.\n",
    "\n",
    "Let's put this into practice! Below is a series of outputs where three random keys have been XOR'd together and with the flag. Use the above properties to undo the encryption in the final line to obtain the flag.\n",
    "\n",
    "> KEY1 = a6c8b6733c9b22de7bc0253266a3867df55acde8635e19c73313\n",
    "\n",
    "> KEY2 ^ KEY1 = 37dcb292030faa90d07eec17e3b1c6d8daf94c35d4c9191a5e1e\n",
    "\n",
    "> KEY2 ^ KEY3 = c1545756687e7573db23aa1c3452a098b71a7fbf0fddddde5fc1\n",
    "\n",
    "> FLAG ^ KEY1 ^ KEY3 ^ KEY2 = 04ee9855208a2cd59091d04767ae47963170d1660df7f56f5faf\n",
    "\n",
    "> Before you XOR these objects, be sure to decode from hex to bytes."
   ]
  },
  {
   "attachments": {},
   "cell_type": "markdown",
   "metadata": {},
   "source": [
    "## Challenge"
   ]
  },
  {
   "cell_type": "code",
   "execution_count": 3,
   "metadata": {},
   "outputs": [
    {
     "name": "stdout",
     "output_type": "stream",
     "text": [
      "Flag: crypto{x0r_i5_ass0c1at1v3}\n"
     ]
    }
   ],
   "source": [
    "from pwn import xor\n",
    "\n",
    "KEY1 = bytes.fromhex(\"a6c8b6733c9b22de7bc0253266a3867df55acde8635e19c73313\")\n",
    "KEY2_KEY3 = bytes.fromhex(\"c1545756687e7573db23aa1c3452a098b71a7fbf0fddddde5fc1\")\n",
    "FLAG_KEY1_KEY2_KEY3 = bytes.fromhex(\"04ee9855208a2cd59091d04767ae47963170d1660df7f56f5faf\") \n",
    "\n",
    "flag = xor(FLAG_KEY1_KEY2_KEY3, xor(KEY1, KEY2_KEY3))\n",
    "print(\"Flag: \" + flag.decode())"
   ]
  },
  {
   "attachments": {},
   "cell_type": "markdown",
   "metadata": {},
   "source": [
    "### Flag: crypto{x0r_i5_ass0c1at1v3}"
   ]
  },
  {
   "attachments": {},
   "cell_type": "markdown",
   "metadata": {},
   "source": [
    "# Favourite byte\n",
    "\n",
    "For the next few challenges, you'll use what you've just learned to solve some more XOR puzzles.\n",
    "\n",
    "I've hidden some data using XOR with a single byte, but that byte is a secret. Don't forget to decode from hex first.\n",
    "\n",
    "`73626960647f6b206821204f21254f7d694f7624662065622127234f726927756d`"
   ]
  },
  {
   "attachments": {},
   "cell_type": "markdown",
   "metadata": {},
   "source": [
    "## Solution"
   ]
  },
  {
   "cell_type": "code",
   "execution_count": 4,
   "metadata": {},
   "outputs": [
    {
     "name": "stdout",
     "output_type": "stream",
     "text": [
      "Flag: crypto{0x10_15_my_f4v0ur173_by7e}\n"
     ]
    }
   ],
   "source": [
    "ct = bytes.fromhex(\"73626960647f6b206821204f21254f7d694f7624662065622127234f726927756d\")\n",
    "k  = ct[0] ^ ord('c')\n",
    "\n",
    "flag = [c ^ k for c in list(ct)]\n",
    "print(\"Flag: \" + bytes(flag).decode())"
   ]
  },
  {
   "attachments": {},
   "cell_type": "markdown",
   "metadata": {},
   "source": [
    "### Flag: crypto{0x10_15_my_f4v0ur173_by7e}"
   ]
  },
  {
   "attachments": {},
   "cell_type": "markdown",
   "metadata": {},
   "source": [
    "# You either know, XOR you don't\n",
    "\n",
    "I've encrypted the flag with my secret key, you'll never be able to guess it.\n",
    "\n",
    "> Remember the flag format and how it might help you in this challenge!\n",
    "\n",
    "\n",
    "`0e0b213f26041e480b26217f27342e175d0e070a3c5b103e2526217f27342e175d0e077e263451150104`"
   ]
  },
  {
   "attachments": {},
   "cell_type": "markdown",
   "metadata": {},
   "source": [
    "## Solution"
   ]
  },
  {
   "cell_type": "code",
   "execution_count": 7,
   "metadata": {},
   "outputs": [
    {
     "name": "stdout",
     "output_type": "stream",
     "text": [
      "Flag: crypto{1f_y0u_Kn0w_En0uGH_y0u_Kn0w_1t_4ll}\n"
     ]
    }
   ],
   "source": [
    "from pwn import xor\n",
    "\n",
    "ct = bytes.fromhex(\"0e0b213f26041e480b26217f27342e175d0e070a3c5b103e2526217f27342e175d0e077e263451150104\")\n",
    "key = xor(b'crypto{', ct[:7])\n",
    "\n",
    "# print(key)\n",
    "# b'myXORke'\n",
    "key += b'y'\n",
    "flag = [ct[i] ^ key[i % len(key)] for i in range(len(ct))]\n",
    "print(\"Flag: \" + bytes(flag).decode())\n",
    " "
   ]
  },
  {
   "attachments": {},
   "cell_type": "markdown",
   "metadata": {},
   "source": [
    "### Flag: crypto{1f_y0u_Kn0w_En0uGH_y0u_Kn0w_1t_4ll}"
   ]
  },
  {
   "attachments": {},
   "cell_type": "markdown",
   "metadata": {},
   "source": [
    "# Lemur XOR\n",
    "\n",
    "I've hidden two cool images by XOR with the same secret key so you can't see them!\n",
    "\n",
    "> This challenge requires performing a visual XOR between the RGB bytes of the two images - not an XOR of all the data bytes of the files.\n",
    "\n",
    "\n",
    "Challenge files:\n",
    "  - [lemur.png](https://cryptohack.org/static/challenges/lemur_ed66878c338e662d3473f0d98eedbd0d.png)\n",
    "  - [flag.png](https://cryptohack.org/static/challenges/flag_7ae18c704272532658c10b5faad06d74.png)"
   ]
  },
  {
   "cell_type": "code",
   "execution_count": 16,
   "metadata": {},
   "outputs": [],
   "source": [
    "import numpy as np\n",
    "from PIL import Image\n",
    "\n",
    "img1 = Image.open('lemur.png')\n",
    "img2 = Image.open('flag.png')\n",
    "\n",
    "n1 = np.array(img1)*255\n",
    "n2 = np.array(img2)*255\n",
    "\n",
    "n_image = np.bitwise_xor(n1, n2).astype(np.uint8)\n",
    "Image.fromarray(n_image).save('./decrypted_flag.png')"
   ]
  },
  {
   "attachments": {},
   "cell_type": "markdown",
   "metadata": {},
   "source": [
    "### Flag: crypto{X0Rly_n0t!}"
   ]
  }
 ],
 "metadata": {
  "kernelspec": {
   "display_name": "Python 3",
   "language": "python",
   "name": "python3"
  },
  "language_info": {
   "codemirror_mode": {
    "name": "ipython",
    "version": 3
   },
   "file_extension": ".py",
   "mimetype": "text/x-python",
   "name": "python",
   "nbconvert_exporter": "python",
   "pygments_lexer": "ipython3",
   "version": "3.10.6"
  },
  "orig_nbformat": 4
 },
 "nbformat": 4,
 "nbformat_minor": 2
}
