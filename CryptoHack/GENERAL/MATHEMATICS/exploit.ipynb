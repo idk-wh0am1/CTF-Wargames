{
 "cells": [
  {
   "attachments": {},
   "cell_type": "markdown",
   "metadata": {},
   "source": [
    "# Greatest Common Divisor\n",
    "\n",
    "The Greatest Common Divisor (GCD), sometimes known as the highest common factor, is the largest number which divides two positive integers (a,b).\n",
    "\n",
    "For `a = 12, b = 8` we can calculate the divisors of a: `{1,2,3,4,6,12}` and the divisors of b: `{1,2,4,8}`. Comparing these two, we see that `gcd(a,b) = 4`.\n",
    "\n",
    "Now imagine we take `a = 11, b = 17`. Both `a` and `b` are prime numbers. As a prime number has only itself and `1` as divisors, `gcd(a,b) = 1`.\n",
    "\n",
    "We say that for any two integers `a,b`, if `gcd(a,b) = 1` then `a` and `b` are coprime integers.\n",
    "\n",
    "If `a` and `b` are prime, they are also coprime. If `a` is prime and `b < a` then `a` and `b` are coprime.\n",
    "\n",
    "> Think about the case for `a` prime and `b > a`, why are these not necessarily coprime?\n",
    "\n",
    "\n",
    "There are many tools to calculate the GCD of two integers, but for this task we recommend looking up [Euclid's Algorithm](https://en.wikipedia.org/wiki/Euclidean_algorithm).\n",
    "\n",
    "Try coding it up; it's only a couple of lines. Use `a = 12, b = 8` to test it.\n",
    "\n",
    "Now calculate `gcd(a,b)` for `a = 66528, b = 52920` and enter it below."
   ]
  },
  {
   "attachments": {},
   "cell_type": "markdown",
   "metadata": {},
   "source": [
    "## Solution"
   ]
  },
  {
   "cell_type": "code",
   "execution_count": 1,
   "metadata": {},
   "outputs": [
    {
     "name": "stdout",
     "output_type": "stream",
     "text": [
      "1512\n"
     ]
    }
   ],
   "source": [
    "from math import gcd\n",
    "\n",
    "a = 66528\n",
    "b = 52920\n",
    "\n",
    "print(gcd(a, b))"
   ]
  },
  {
   "attachments": {},
   "cell_type": "markdown",
   "metadata": {},
   "source": [
    "### Flag: 1512"
   ]
  },
  {
   "attachments": {},
   "cell_type": "markdown",
   "metadata": {},
   "source": [
    "# Extended GCD\n",
    "\n",
    "Let a and b be positive integers.\n",
    "\n",
    "The extended Euclidean algorithm is an efficient way to find integers u,v such that\n",
    "\n",
    "a * u + b * v = gcd(a,b)\n",
    "\n",
    "> Later, when we learn to decrypt RSA, we will need this algorithm to calculate the modular inverse of the public exponent.\n",
    "\n",
    "\n",
    "Using the two primes p = 26513, q = 32321, find the integers u,v such that\n",
    "\n",
    "p * u + q * v = gcd(p,q)\n",
    "\n",
    "Enter whichever of u and v is the lower number as the flag.\n",
    "\n",
    "> Knowing that p,q are prime, what would you expect gcd(p,q) to be? For more details on the extended Euclidean algorithm, check out [this page](http://www-math.ucdenver.edu/~wcherowi/courses/m5410/exeucalg.html)."
   ]
  },
  {
   "attachments": {},
   "cell_type": "markdown",
   "metadata": {},
   "source": [
    "## Solution"
   ]
  },
  {
   "cell_type": "code",
   "execution_count": 2,
   "metadata": {},
   "outputs": [
    {
     "name": "stdout",
     "output_type": "stream",
     "text": [
      "(1, 10245, -8404)\n"
     ]
    }
   ],
   "source": [
    "from sage.all import *\n",
    "\n",
    "p = 26513\n",
    "q = 32321\n",
    "print(xgcd(p, q))"
   ]
  },
  {
   "attachments": {},
   "cell_type": "markdown",
   "metadata": {},
   "source": [
    "### Flag: -8404"
   ]
  },
  {
   "attachments": {},
   "cell_type": "markdown",
   "metadata": {},
   "source": [
    "# Modular Arithmetic 1\n",
    "\n",
    "<p align=\"center\">\n",
    "    <img src=\"./images/modular1.png\">\n",
    "</p>"
   ]
  },
  {
   "attachments": {},
   "cell_type": "markdown",
   "metadata": {},
   "source": [
    "## Solution"
   ]
  },
  {
   "cell_type": "code",
   "execution_count": 3,
   "metadata": {},
   "outputs": [
    {
     "name": "stdout",
     "output_type": "stream",
     "text": [
      "4\n"
     ]
    }
   ],
   "source": [
    "x = 11 % 6\n",
    "y = 8146798528947 % 17\n",
    "print(min(x, y))"
   ]
  },
  {
   "attachments": {},
   "cell_type": "markdown",
   "metadata": {},
   "source": [
    "### Flag: 4"
   ]
  },
  {
   "attachments": {},
   "cell_type": "markdown",
   "metadata": {},
   "source": [
    "# Modular Arithmetic 2\n",
    "\n",
    "<p align=\"center\">\n",
    "    <img src=\"./images/modular2.png\">\n",
    "</p>"
   ]
  },
  {
   "attachments": {},
   "cell_type": "markdown",
   "metadata": {},
   "source": [
    "## Solution"
   ]
  },
  {
   "cell_type": "code",
   "execution_count": 4,
   "metadata": {},
   "outputs": [
    {
     "name": "stdout",
     "output_type": "stream",
     "text": [
      "1\n"
     ]
    }
   ],
   "source": [
    "p = 65537\n",
    "e = 65536\n",
    "a = 273246787654\n",
    "\n",
    "assert e == p - 1\n",
    "# => fermat\n",
    "\n",
    "print(pow(a, e, p))"
   ]
  },
  {
   "attachments": {},
   "cell_type": "markdown",
   "metadata": {},
   "source": [
    "### Flag: 1"
   ]
  },
  {
   "attachments": {},
   "cell_type": "markdown",
   "metadata": {},
   "source": [
    "# Modular Inverting\n",
    "\n",
    "<p align=\"center\">\n",
    "    <img src=\"./images/invert.png\">\n",
    "</p>"
   ]
  },
  {
   "attachments": {},
   "cell_type": "markdown",
   "metadata": {},
   "source": [
    "## Solution"
   ]
  },
  {
   "cell_type": "code",
   "execution_count": 5,
   "metadata": {},
   "outputs": [
    {
     "name": "stdout",
     "output_type": "stream",
     "text": [
      "9\n"
     ]
    }
   ],
   "source": [
    "print(pow(3, -1, 13))"
   ]
  },
  {
   "attachments": {},
   "cell_type": "markdown",
   "metadata": {},
   "source": [
    "### Flag: 9"
   ]
  }
 ],
 "metadata": {
  "kernelspec": {
   "display_name": "Python 3",
   "language": "python",
   "name": "python3"
  },
  "language_info": {
   "codemirror_mode": {
    "name": "ipython",
    "version": 3
   },
   "file_extension": ".py",
   "mimetype": "text/x-python",
   "name": "python",
   "nbconvert_exporter": "python",
   "pygments_lexer": "ipython3",
   "version": "3.10.6"
  },
  "orig_nbformat": 4
 },
 "nbformat": 4,
 "nbformat_minor": 2
}
