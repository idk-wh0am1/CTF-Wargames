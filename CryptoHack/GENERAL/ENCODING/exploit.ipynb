{
 "cells": [
  {
   "attachments": {},
   "cell_type": "markdown",
   "metadata": {},
   "source": [
    "# ASCII\n",
    "\n",
    "ASCII is a 7-bit encoding standard which allows the representation of text using the integers 0-127.\n",
    "\n",
    "Using the below integer array, convert the numbers to their corresponding ASCII characters to obtain a flag.\n",
    "\n",
    "`[99, 114, 121, 112, 116, 111, 123, 65, 83, 67, 73, 73, 95, 112, 114, 49, 110, 116, 52, 98, 108, 51, 125]`\n",
    "\n",
    "> In Python, the `chr()` function can be used to convert an ASCII ordinal number to a character (the `ord()` function does the opposite)."
   ]
  },
  {
   "attachments": {},
   "cell_type": "markdown",
   "metadata": {},
   "source": [
    "## Solution"
   ]
  },
  {
   "cell_type": "code",
   "execution_count": 1,
   "metadata": {},
   "outputs": [
    {
     "name": "stdout",
     "output_type": "stream",
     "text": [
      "Flag: crypto{ASCII_pr1nt4bl3}\n"
     ]
    }
   ],
   "source": [
    "flag = bytes([99, 114, 121, 112, 116, 111, 123, 65, 83, 67, 73, 73, 95, 112, 114, 49, 110, 116, 52, 98, 108, 51, 125]).decode()\n",
    "print(\"Flag: \" + flag)"
   ]
  },
  {
   "attachments": {},
   "cell_type": "markdown",
   "metadata": {},
   "source": [
    "### Flag: crypto{ASCII_pr1nt4bl3}"
   ]
  },
  {
   "attachments": {},
   "cell_type": "markdown",
   "metadata": {},
   "source": [
    "# Hex\n",
    "\n",
    "When we encrypt something the resulting ciphertext commonly has bytes which are not printable ASCII characters. If we want to share our encrypted data, it's common to encode it into something more user-friendly and portable across different systems.\n",
    "\n",
    "Hexadecimal can be used in such a way to represent ASCII strings. First each letter is converted to an ordinal number according to the ASCII table (as in the previous challenge). Then the decimal numbers are converted to base-16 numbers, otherwise known as hexadecimal. The numbers can be combined together, into one long hex string.\n",
    "\n",
    "Included below is a flag encoded as a hex string. Decode this back into bytes to get the flag.\n",
    "\n",
    "`63727970746f7b596f755f77696c6c5f62655f776f726b696e675f776974685f6865785f737472696e67735f615f6c6f747d`\n",
    "\n",
    "> In Python, the `bytes.fromhex()` function can be used to convert hex to bytes. The `.hex()` instance method can be called on byte strings to get the hex representation.\n",
    "\n",
    "\n",
    "Resources:\n",
    "  - [ASCII table](https://www.rapidtables.com/code/text/ascii-table.html)\n",
    "  - [Wikipedia: Hexadecimal](https://en.wikipedia.org/wiki/Hexadecimal)"
   ]
  },
  {
   "attachments": {},
   "cell_type": "markdown",
   "metadata": {},
   "source": [
    "## Solution"
   ]
  },
  {
   "cell_type": "code",
   "execution_count": 2,
   "metadata": {},
   "outputs": [
    {
     "name": "stdout",
     "output_type": "stream",
     "text": [
      "Flag: crypto{You_will_be_working_with_hex_strings_a_lot}\n"
     ]
    }
   ],
   "source": [
    "flag = bytes.fromhex(\"63727970746f7b596f755f77696c6c5f62655f776f726b696e675f776974685f6865785f737472696e67735f615f6c6f747d\").decode()\n",
    "print(\"Flag: \" + flag)"
   ]
  },
  {
   "attachments": {},
   "cell_type": "markdown",
   "metadata": {},
   "source": [
    "### Flag: crypto{You_will_be_working_with_hex_strings_a_lot}"
   ]
  },
  {
   "attachments": {},
   "cell_type": "markdown",
   "metadata": {},
   "source": [
    "# Base64\n",
    "\n",
    "Another common encoding scheme is Base64, which allows us to represent binary data as an ASCII string using an alphabet of 64 characters. One character of a Base64 string encodes 6 binary digits (bits), and so 4 characters of Base64 encode three 8-bit bytes.\n",
    "\n",
    "Base64 is most commonly used online, so binary data such as images can be easily included into HTML or CSS files.\n",
    "\n",
    "Take the below hex string, decode it into bytes and then encode it into Base64.\n",
    "\n",
    "`72bca9b68fc16ac7beeb8f849dca1d8a783e8acf9679bf9269f7bf`\n",
    "\n",
    "> In Python, after importing the base64 module with `import base64`, you can use the `base64.b64encode()` function. Remember to decode the hex first as the challenge description states."
   ]
  },
  {
   "attachments": {},
   "cell_type": "markdown",
   "metadata": {},
   "source": [
    "## Solution"
   ]
  },
  {
   "cell_type": "code",
   "execution_count": 5,
   "metadata": {},
   "outputs": [
    {
     "name": "stdout",
     "output_type": "stream",
     "text": [
      "Flag: crypto/Base+64+Encoding+is+Web+Safe/\n"
     ]
    }
   ],
   "source": [
    "from base64 import b64encode\n",
    "\n",
    "flag = b64encode(bytes.fromhex(\"72bca9b68fc16ac7beeb8f849dca1d8a783e8acf9679bf9269f7bf\"))\n",
    "print(\"Flag: \" + flag.decode())"
   ]
  },
  {
   "attachments": {},
   "cell_type": "markdown",
   "metadata": {},
   "source": [
    "### Flag: crypto/Base+64+Encoding+is+Web+Safe/"
   ]
  },
  {
   "attachments": {},
   "cell_type": "markdown",
   "metadata": {},
   "source": [
    "# Bytes and Big Integers\n",
    "\n",
    "Cryptosystems like RSA works on numbers, but messages are made up of characters. How should we convert our messages into numbers so that mathematical operations can be applied?\n",
    "\n",
    "The most common way is to take the ordinal bytes of the message, convert them into hexadecimal, and concatenate. This can be interpreted as a base-16/hexadecimal number, and also represented in base-10/decimal.\n",
    "\n",
    "To illustrate:\n",
    "\n",
    "> message: HELLO\n",
    "> ascii bytes: [72, 69, 76, 76, 79]\n",
    "> hex bytes: [0x48, 0x45, 0x4c, 0x4c, 0x4f]\n",
    "> base-16: 0x48454c4c4f\n",
    "> base-10: 310400273487\n",
    "\n",
    "> Python's PyCryptodome library implements this with the methods `bytes_to_long()` and `long_to_bytes()`. You will first have to install PyCryptodome and import it with `from Crypto.Util.number import *`. For more details check the [FAQ](https://cryptohack.org/faq/#install).\n",
    "\n",
    "\n",
    "Convert the following integer back into a message:\n",
    "\n",
    "`11515195063862318899931685488813747395775516287289682636499965282714637259206269`"
   ]
  },
  {
   "attachments": {},
   "cell_type": "markdown",
   "metadata": {},
   "source": [
    "## Solution"
   ]
  },
  {
   "cell_type": "code",
   "execution_count": 6,
   "metadata": {},
   "outputs": [
    {
     "name": "stdout",
     "output_type": "stream",
     "text": [
      "Flag: crypto{3nc0d1n6_4ll_7h3_w4y_d0wn}\n"
     ]
    }
   ],
   "source": [
    "from Crypto.Util.number import long_to_bytes\n",
    "\n",
    "flag = long_to_bytes(11515195063862318899931685488813747395775516287289682636499965282714637259206269).decode()\n",
    "print(\"Flag: \" + flag)"
   ]
  },
  {
   "attachments": {},
   "cell_type": "markdown",
   "metadata": {},
   "source": [
    "### Flag: crypto{3nc0d1n6_4ll_7h3_w4y_d0wn}"
   ]
  },
  {
   "attachments": {},
   "cell_type": "markdown",
   "metadata": {},
   "source": [
    "# Encoding Challenge\n",
    "\n",
    "Now you've got the hang of the various encodings you'll be encountering, let's have a look at automating it.\n",
    "\n",
    "Can you pass all 100 levels to get the flag?\n",
    "\n",
    "The *13377.py* file attached below is the source code for what's running on the server. The pwntools_example.py file provides the start of a solution using the incredibly convenient pwntools library. which we recommend. If you'd prefer to use Python's in-built telnetlib, telnetlib_example.py is also provided.\n",
    "\n",
    "For more information about connecting to interactive challenges, see the [FAQ](https://cryptohack.org/faq#netcat). Feel free to skip ahead to the cryptography if you aren't in the mood for a coding challenge!\n",
    "\n",
    "Connect at nc `socket.cryptohack.org 13377`\n",
    "\n",
    "Challenge files:\n",
    "  - [13377.py](https://cryptohack.org/static/challenges/13377_43de0a0efed6ed7bd890d1c79db22fb1.py)\n",
    "  - [pwntools_example.py](https://cryptohack.org/static/challenges/pwntools_example_f93ca6ccef2def755aa8f6d9aa6e9c5b.py)\n",
    "  - [telnetlib_example.py](https://cryptohack.org/static/challenges/telnetlib_example_5b11a835055df17c7c8f8f2a08782c44.py)"
   ]
  },
  {
   "attachments": {},
   "cell_type": "markdown",
   "metadata": {},
   "source": [
    "## Challenge overview\n",
    "\n",
    "### 13377.py\n",
    "\n",
    "```python\n",
    "#!/usr/bin/env python3\n",
    "\n",
    "from Crypto.Util.number import bytes_to_long, long_to_bytes\n",
    "from utils import listener # this is cryptohack's server-side module and not part of python\n",
    "import base64\n",
    "import codecs\n",
    "import random\n",
    "\n",
    "FLAG = \"crypto{????????????????????}\"\n",
    "ENCODINGS = [\n",
    "    \"base64\",\n",
    "    \"hex\",\n",
    "    \"rot13\",\n",
    "    \"bigint\",\n",
    "    \"utf-8\",\n",
    "]\n",
    "with open('/usr/share/dict/words') as f:\n",
    "    WORDS = [line.strip().replace(\"'\", \"\") for line in f.readlines()]\n",
    "\n",
    "\n",
    "class Challenge():\n",
    "    def __init__(self):\n",
    "        self.challenge_words = \"\"\n",
    "        self.stage = 0\n",
    "\n",
    "    def create_level(self):\n",
    "        self.stage += 1\n",
    "        self.challenge_words = \"_\".join(random.choices(WORDS, k=3))\n",
    "        encoding = random.choice(ENCODINGS)\n",
    "\n",
    "        if encoding == \"base64\":\n",
    "            encoded = base64.b64encode(self.challenge_words.encode()).decode() # wow so encode\n",
    "        elif encoding == \"hex\":\n",
    "            encoded = self.challenge_words.encode().hex()\n",
    "        elif encoding == \"rot13\":\n",
    "            encoded = codecs.encode(self.challenge_words, 'rot_13')\n",
    "        elif encoding == \"bigint\":\n",
    "            encoded = hex(bytes_to_long(self.challenge_words.encode()))\n",
    "        elif encoding == \"utf-8\":\n",
    "            encoded = [ord(b) for b in self.challenge_words]\n",
    "\n",
    "        return {\"type\": encoding, \"encoded\": encoded}\n",
    "\n",
    "    #\n",
    "    # This challenge function is called on your input, which must be JSON\n",
    "    # encoded\n",
    "    #\n",
    "    def challenge(self, your_input):\n",
    "        if self.stage == 0:\n",
    "            return self.create_level()\n",
    "        elif self.stage == 100:\n",
    "            self.exit = True\n",
    "            return {\"flag\": FLAG}\n",
    "\n",
    "        if self.challenge_words == your_input[\"decoded\"]:\n",
    "            return self.create_level()\n",
    "\n",
    "        return {\"error\": \"Decoding fail\"}\n",
    "\n",
    "\n",
    "listener.start_server(port=13377)\n",
    "```"
   ]
  },
  {
   "attachments": {},
   "cell_type": "markdown",
   "metadata": {},
   "source": [
    "## Solution"
   ]
  },
  {
   "cell_type": "code",
   "execution_count": null,
   "metadata": {},
   "outputs": [],
   "source": [
    "from tqdm import tqdm\n",
    "from pwn import *\n",
    "from Crypto.Util.number import long_to_bytes\n",
    "from base64 import b64decode\n",
    "import json\n",
    "from string import ascii_lowercase\n",
    "from codecs import decode\n",
    "\n",
    "class challenge:\n",
    "    def __init__(self, HOST, PORT) -> None:\n",
    "        self.io = remote(HOST, PORT)\n",
    "    \n",
    "    def solve(self):\n",
    "        chall = json.loads(self.io.recvline().strip().decode())\n",
    "        \n",
    "        if chall['type'] == 'base64':\n",
    "            answer = {'decoded': b64decode(chall['encoded']).decode()}\n",
    "            self.io.sendline(json.dumps(answer).encode())\n",
    "        \n",
    "        elif chall['type'] == 'bigint':\n",
    "            answer = {'decoded': long_to_bytes(int(chall['encoded'], 16)).decode()}\n",
    "            self.io.sendline(json.dumps(answer).encode())\n",
    "        \n",
    "        elif chall['type'] == 'hex':\n",
    "            answer = {'decoded': bytes.fromhex(chall['encoded']).decode()}\n",
    "            self.io.sendline(json.dumps(answer).encode())\n",
    "        \n",
    "        elif chall['type'] == 'utf-8':\n",
    "            answer = {'decoded': bytes(chall['encoded']).decode()}\n",
    "            self.io.sendline(json.dumps(answer).encode())\n",
    "        \n",
    "        else:\n",
    "            answer = {'decoded': decode(chall['encoded'], 'rot_13')}\n",
    "            self.io.sendline(json.dumps(answer).encode())\n",
    "\n",
    "    def interactive(self):\n",
    "        return self.io.interactive()\n",
    "    \n",
    "if __name__ == '__main__':\n",
    "    HOST = \"socket.cryptohack.org\"\n",
    "    PORT = 13377\n",
    "    chall = challenge(HOST, PORT)\n",
    "    \n",
    "    for i in tqdm(range(100)):\n",
    "        chall.solve()\n",
    "    \n",
    "    chall.interactive()"
   ]
  },
  {
   "cell_type": "code",
   "execution_count": null,
   "metadata": {
    "vscode": {
     "languageId": "shellscript"
    }
   },
   "outputs": [],
   "source": [
    "  [14:38:23] [~/Desktop/Github/CTF-Wargames/CryptoHack/GENERAL/ENCODING] ❱❱❱ python encoding_challenge.py\n",
    "[+] Opening connection to socket.cryptohack.org on port 13377: Done\n",
    "100%|████████████████████████████████████████████████████████████████████████████████████████████████████████████████████████████████████████████████████████| 100/100 [03:16<00:00,  1.96s/it]\n",
    "[*] Switching to interactive mode\n",
    "{\"flag\": \"crypto{3nc0d3_d3c0d3_3nc0d3}\"}\n",
    "[*] Got EOF while reading in interactive\n",
    "$ \n",
    "[*] Interrupted\n",
    "[*] Closed connection to socket.cryptohack.org port 13377"
   ]
  },
  {
   "attachments": {},
   "cell_type": "markdown",
   "metadata": {},
   "source": [
    "### Flag: crypto{3nc0d3_d3c0d3_3nc0d3}"
   ]
  }
 ],
 "metadata": {
  "kernelspec": {
   "display_name": "Python 3",
   "language": "python",
   "name": "python3"
  },
  "language_info": {
   "codemirror_mode": {
    "name": "ipython",
    "version": 3
   },
   "file_extension": ".py",
   "mimetype": "text/x-python",
   "name": "python",
   "nbconvert_exporter": "python",
   "pygments_lexer": "ipython3",
   "version": "3.10.6"
  },
  "orig_nbformat": 4
 },
 "nbformat": 4,
 "nbformat_minor": 2
}
