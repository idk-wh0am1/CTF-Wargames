{
 "cells": [
  {
   "attachments": {},
   "cell_type": "markdown",
   "metadata": {},
   "source": [
    "# Finding Flags\n",
    "\n",
    "Each challenge is designed to help introduce you to a new piece of cryptography. Solving a challenge will require you to find a \"flag\".\n",
    "\n",
    "These flags will usually be in the format `crypto{y0ur_f1rst_fl4g}`. The flag format helps you verify that you found the correct solution.\n",
    "\n",
    "Try submitting this flag into the form below to solve your first challenge."
   ]
  },
  {
   "attachments": {},
   "cell_type": "markdown",
   "metadata": {},
   "source": [
    "### Flag: crypto{y0ur_f1rst_fl4g}"
   ]
  },
  {
   "attachments": {},
   "cell_type": "markdown",
   "metadata": {},
   "source": [
    "# Great Snakes\n",
    "\n",
    "Modern cryptography involves code, and code involves coding. CryptoHack provides a good opportunity to sharpen your skills.\n",
    "\n",
    "Of all modern programming languages, Python 3 stands out as ideal for quickly writing cryptographic scripts and attacks. For more information about why we think Python is so great for this, please see the [FAQ](https://cryptohack.org/faq#python3).\n",
    "\n",
    "Run the attached Python script and it will output your flag.\n",
    "\n",
    "Challenge files:\n",
    "  - [great_snakes.py](https://cryptohack.org/static/challenges/great_snakes_35381fca29d68d8f3f25c9fa0a9026fb.py)\n",
    "\n",
    "Resources:\n",
    "  - [Downloading Python](https://wiki.python.org/moin/BeginnersGuide/Download)"
   ]
  },
  {
   "attachments": {},
   "cell_type": "markdown",
   "metadata": {},
   "source": [
    "## Challenge overview\n",
    "\n",
    "### great_snakes.py\n",
    "\n",
    "```python\n",
    "#!/usr/bin/env python3\n",
    "\n",
    "import sys\n",
    "# import this\n",
    "\n",
    "if sys.version_info.major == 2:\n",
    "    print(\"You are running Python 2, which is no longer supported. Please update to Python 3.\")\n",
    "\n",
    "ords = [81, 64, 75, 66, 70, 93, 73, 72, 1, 92, 109, 2, 84, 109, 66, 75, 70, 90, 2, 92, 79]\n",
    "\n",
    "print(\"Here is your flag:\")\n",
    "print(\"\".join(chr(o ^ 0x32) for o in ords))\n",
    "```"
   ]
  },
  {
   "attachments": {},
   "cell_type": "markdown",
   "metadata": {},
   "source": [
    "## Solution"
   ]
  },
  {
   "cell_type": "code",
   "execution_count": 1,
   "metadata": {},
   "outputs": [
    {
     "name": "stdout",
     "output_type": "stream",
     "text": [
      "Here is your flag:\n",
      "crypto{z3n_0f_pyth0n}\n"
     ]
    }
   ],
   "source": [
    "import sys\n",
    "# import this\n",
    "\n",
    "if sys.version_info.major == 2:\n",
    "    print(\"You are running Python 2, which is no longer supported. Please update to Python 3.\")\n",
    "\n",
    "ords = [81, 64, 75, 66, 70, 93, 73, 72, 1, 92, 109, 2, 84, 109, 66, 75, 70, 90, 2, 92, 79]\n",
    "\n",
    "print(\"Here is your flag:\")\n",
    "print(\"\".join(chr(o ^ 0x32) for o in ords))"
   ]
  },
  {
   "attachments": {},
   "cell_type": "markdown",
   "metadata": {},
   "source": [
    "# Network Attacks\n",
    "\n",
    "Several of the challenges are dynamic and require you to talk to our challenge servers over the network. This allows you to perform man-in-the-middle attacks on people trying to communicate, or directly attack a vulnerable service. To keep things consistent, our interactive servers always send and receive JSON objects.\n",
    "\n",
    "Python makes such network communication easy with the `telnetlib` module. Conveniently, it's part of Python's standard library, so let's use it for now.\n",
    "\n",
    "For this challenge, connect to `socket.cryptohack.org` on port `11112`. Send a JSON object with the key `buy` and value `flag`.\n",
    "\n",
    "The example script below contains the beginnings of a solution for you to modify, and you can reuse it for later challenges.\n",
    "\n",
    "\n",
    "Connect at `nc socket.cryptohack.org 11112`\n",
    "\n",
    "Challenge files:\n",
    "  - [telnetlib_example.py](https://cryptohack.org/static/challenges/telnetlib_example_dbc6ff5dc4dcfac568d7978a801d3ead.py)"
   ]
  },
  {
   "attachments": {},
   "cell_type": "markdown",
   "metadata": {},
   "source": [
    "## Challenge overview\n",
    "\n",
    "### telnetlib_example.py\n",
    "\n",
    "```python\n",
    "#!/usr/bin/env python3\n",
    "\n",
    "import telnetlib\n",
    "import json\n",
    "\n",
    "HOST = \"socket.cryptohack.org\"\n",
    "PORT = 11112\n",
    "\n",
    "tn = telnetlib.Telnet(HOST, PORT)\n",
    "\n",
    "\n",
    "def readline():\n",
    "    return tn.read_until(b\"\\n\")\n",
    "\n",
    "def json_recv():\n",
    "    line = readline()\n",
    "    return json.loads(line.decode())\n",
    "\n",
    "def json_send(hsh):\n",
    "    request = json.dumps(hsh).encode()\n",
    "    tn.write(request)\n",
    "\n",
    "\n",
    "print(readline())\n",
    "print(readline())\n",
    "print(readline())\n",
    "print(readline())\n",
    "\n",
    "\n",
    "request = {\n",
    "    \"buy\": \"clothes\"\n",
    "}\n",
    "json_send(request)\n",
    "\n",
    "response = json_recv()\n",
    "\n",
    "print(response)\n",
    "```"
   ]
  },
  {
   "attachments": {},
   "cell_type": "markdown",
   "metadata": {},
   "source": [
    "## Solution"
   ]
  },
  {
   "cell_type": "code",
   "execution_count": 3,
   "metadata": {},
   "outputs": [
    {
     "name": "stdout",
     "output_type": "stream",
     "text": [
      "b\"Welcome to netcat's flag shop!\\n\"\n",
      "b'What would you like to buy?\\n'\n",
      "b\"I only speak JSON, I hope that's ok.\\n\"\n",
      "b'\\n'\n",
      "{'flag': 'crypto{sh0pp1ng_f0r_fl4g5}'}\n"
     ]
    }
   ],
   "source": [
    "import telnetlib\n",
    "import json\n",
    "\n",
    "HOST = \"socket.cryptohack.org\"\n",
    "PORT = 11112\n",
    "\n",
    "tn = telnetlib.Telnet(HOST, PORT)\n",
    "\n",
    "\n",
    "def readline():\n",
    "    return tn.read_until(b\"\\n\")\n",
    "\n",
    "def json_recv():\n",
    "    line = readline()\n",
    "    return json.loads(line.decode())\n",
    "\n",
    "def json_send(hsh):\n",
    "    request = json.dumps(hsh).encode()\n",
    "    tn.write(request)\n",
    "\n",
    "\n",
    "print(readline())\n",
    "print(readline())\n",
    "print(readline())\n",
    "print(readline())\n",
    "\n",
    "\n",
    "request = {\n",
    "    \"buy\": \"flag\"\n",
    "}\n",
    "json_send(request)\n",
    "\n",
    "response = json_recv()\n",
    "\n",
    "print(response)"
   ]
  },
  {
   "attachments": {},
   "cell_type": "markdown",
   "metadata": {},
   "source": [
    "### Flag: crypto{sh0pp1ng_f0r_fl4g5}"
   ]
  }
 ],
 "metadata": {
  "kernelspec": {
   "display_name": "Python 3",
   "language": "python",
   "name": "python3"
  },
  "language_info": {
   "codemirror_mode": {
    "name": "ipython",
    "version": 3
   },
   "file_extension": ".py",
   "mimetype": "text/x-python",
   "name": "python",
   "nbconvert_exporter": "python",
   "pygments_lexer": "ipython3",
   "version": "3.10.6"
  },
  "orig_nbformat": 4
 },
 "nbformat": 4,
 "nbformat_minor": 2
}
