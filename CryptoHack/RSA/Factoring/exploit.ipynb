{
 "cells": [
  {
   "cell_type": "markdown",
   "id": "6c65cd13",
   "metadata": {},
   "source": [
    "# Factoring\n",
    "\n",
    "So far we've been using the product of small primes for the modulus, but small primes aren't much good for RSA as they can be factorised using [modern methods](https://en.wikipedia.org/wiki/General_number_field_sieve).\n",
    "\n",
    "What is a \"small prime\"? There was an [RSA Factoring Challenge](https://en.wikipedia.org/wiki/RSA_Factoring_Challenge) with cash prizes given to teams who could factorise RSA moduli. This gave insight to the public into how long various key sizes would remain safe. Computers get faster, algorithms get better, so in cryptography it's always prudent to err on the side of caution.\n",
    "\n",
    "These days, using primes that are at least 1024 bits long is recommended—multiplying two such 1024 primes gives you a modulus that is 2048 bits large. RSA with a 2048-bit modulus is called RSA-2048.\n",
    "\n",
    "Some say that to really remain future-proof you should use RSA-4096 or even RSA-8192. However, there is a tradeoff here; it takes longer to generate large prime numbers, plus modular exponentiations are predictably slower with a large modulus.\n",
    "\n",
    "Factorise the 150-bit number `510143758735509025530880200653196460532653147` into its two constituent primes. Give the smaller one as your answer.\n",
    "\n",
    "Resources:\n",
    "  - [How big an RSA key is considered secure today?](https://crypto.stackexchange.com/questions/1978/how-big-an-rsa-key-is-considered-secure-today/1982#1982)\n",
    "  - [primefac-fork](https://github.com/elliptic-shiho/primefac-fork)"
   ]
  },
  {
   "cell_type": "markdown",
   "id": "7ca4df59",
   "metadata": {},
   "source": [
    "# Solution"
   ]
  },
  {
   "cell_type": "code",
   "execution_count": 3,
   "id": "92982988",
   "metadata": {},
   "outputs": [
    {
     "name": "stdout",
     "output_type": "stream",
     "text": [
      "19704762736204164635843 * 25889363174021185185929\n"
     ]
    }
   ],
   "source": [
    "from sage.all import factor\n",
    "\n",
    "N = 510143758735509025530880200653196460532653147\n",
    "print(factor(N))"
   ]
  },
  {
   "cell_type": "markdown",
   "id": "7908e6e5",
   "metadata": {},
   "source": [
    "# Flag: 19704762736204164635843"
   ]
  }
 ],
 "metadata": {
  "kernelspec": {
   "display_name": "SageMath 9.5",
   "language": "sage",
   "name": "sagemath"
  },
  "language_info": {
   "codemirror_mode": {
    "name": "ipython",
    "version": 3
   },
   "file_extension": ".py",
   "mimetype": "text/x-python",
   "name": "python",
   "nbconvert_exporter": "python",
   "pygments_lexer": "ipython3",
   "version": "3.10.6"
  }
 },
 "nbformat": 4,
 "nbformat_minor": 5
}
