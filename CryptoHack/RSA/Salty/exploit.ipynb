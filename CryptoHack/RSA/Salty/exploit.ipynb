{
 "cells": [
  {
   "cell_type": "markdown",
   "id": "7e3643fb",
   "metadata": {},
   "source": [
    "# Salty\n",
    "\n",
    "Smallest exponent should be fastest, right?\n",
    "\n",
    "Challenge files:\n",
    "  - [salty.py](https://cryptohack.org/static/challenges/salty_9854bdcadc3f8b8f58008a24d392c1bf.py)\n",
    "  - [output.txt](https://cryptohack.org/static/challenges/output_95f558e889cc66920c24a961f1fb8181.txt)"
   ]
  },
  {
   "cell_type": "markdown",
   "id": "d1591e7c",
   "metadata": {},
   "source": [
    "# Challenge overview\n",
    "\n",
    "### salty.py\n",
    "\n",
    "```python\n",
    "#!/usr/bin/env python3\n",
    "\n",
    "from Crypto.Util.number import getPrime, inverse, bytes_to_long, long_to_bytes\n",
    "\n",
    "e = 1\n",
    "d = -1\n",
    "\n",
    "while d == -1:\n",
    "    p = getPrime(512)\n",
    "    q = getPrime(512)\n",
    "    phi = (p - 1) * (q - 1)\n",
    "    d = inverse(e, phi)\n",
    "\n",
    "n = p * q\n",
    "\n",
    "flag = b\"XXXXXXXXXXXXXXXXXXXXXXX\"\n",
    "pt = bytes_to_long(flag)\n",
    "ct = pow(pt, e, n)\n",
    "\n",
    "print(f\"n = {n}\")\n",
    "print(f\"e = {e}\")\n",
    "print(f\"ct = {ct}\")\n",
    "\n",
    "pt = pow(ct, d, n)\n",
    "decrypted = long_to_bytes(pt)\n",
    "assert decrypted == flag\n",
    "```\n",
    "\n",
    "### output.txt\n",
    "\n",
    "```\n",
    "n = 110581795715958566206600392161360212579669637391437097703685154237017351570464767725324182051199901920318211290404777259728923614917211291562555864753005179326101890427669819834642007924406862482343614488768256951616086287044725034412802176312273081322195866046098595306261781788276570920467840172004530873767                                                                  \n",
    "e = 1\n",
    "ct = 44981230718212183604274785925793145442655465025264554046028251311164494127485\n",
    "```"
   ]
  },
  {
   "cell_type": "markdown",
   "id": "997a3447",
   "metadata": {},
   "source": [
    "# Solution"
   ]
  },
  {
   "cell_type": "code",
   "execution_count": 2,
   "id": "16a9933c",
   "metadata": {},
   "outputs": [
    {
     "name": "stdout",
     "output_type": "stream",
     "text": [
      "Flag: crypto{saltstack_fell_for_this!}\n"
     ]
    }
   ],
   "source": [
    "from Crypto.Util.number import *\n",
    "\n",
    "n = 110581795715958566206600392161360212579669637391437097703685154237017351570464767725324182051199901920318211290404777259728923614917211291562555864753005179326101890427669819834642007924406862482343614488768256951616086287044725034412802176312273081322195866046098595306261781788276570920467840172004530873767                                                                  \n",
    "e = 1\n",
    "ct = 44981230718212183604274785925793145442655465025264554046028251311164494127485\n",
    "\n",
    "flag = long_to_bytes(ct)\n",
    "print(\"Flag: \" + flag.decode())"
   ]
  },
  {
   "cell_type": "markdown",
   "id": "9d1d467d",
   "metadata": {},
   "source": [
    "# Flag: crypto{saltstack_fell_for_this!}"
   ]
  }
 ],
 "metadata": {
  "kernelspec": {
   "display_name": "SageMath 9.5",
   "language": "sage",
   "name": "sagemath"
  },
  "language_info": {
   "codemirror_mode": {
    "name": "ipython",
    "version": 3
   },
   "file_extension": ".py",
   "mimetype": "text/x-python",
   "name": "python",
   "nbconvert_exporter": "python",
   "pygments_lexer": "ipython3",
   "version": "3.10.6"
  }
 },
 "nbformat": 4,
 "nbformat_minor": 5
}
