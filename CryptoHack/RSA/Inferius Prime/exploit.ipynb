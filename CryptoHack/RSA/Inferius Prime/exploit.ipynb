{
 "cells": [
  {
   "cell_type": "markdown",
   "id": "79b08f75",
   "metadata": {},
   "source": [
    "# Inferius Prime\n",
    "\n",
    "Here is my super-strong RSA implementation, because it's 1600 bits strong it should be unbreakable... at least I think so!\n",
    "\n",
    "Challenge files:\n",
    "  - [inferius.py](https://cryptohack.org/static/challenges/inferius_e85eea9b19cd68aa71ce850918302bad.py)\n",
    "  - [output.txt](https://cryptohack.org/static/challenges/output_4b843d94b6196df152219c3165b9347f.txt)"
   ]
  },
  {
   "cell_type": "markdown",
   "id": "d5f732c7",
   "metadata": {},
   "source": [
    "# Challenge overview\n",
    "\n",
    "### inferius.py\n",
    "```python\n",
    "#!/usr/bin/env python3\n",
    "\n",
    "from Crypto.Util.number import getPrime, inverse, bytes_to_long, long_to_bytes, GCD\n",
    "\n",
    "e = 3\n",
    "\n",
    "# n will be 8 * (100 + 100) = 1600 bits strong which is pretty good\n",
    "while True:\n",
    "    p = getPrime(100)\n",
    "    q = getPrime(100)\n",
    "    phi = (p - 1) * (q - 1)\n",
    "    d = inverse(e, phi)\n",
    "    if d != -1 and GCD(e, phi) == 1:\n",
    "        break\n",
    "\n",
    "n = p * q\n",
    "\n",
    "flag = b\"XXXXXXXXXXXXXXXXXXXXXXX\"\n",
    "pt = bytes_to_long(flag)\n",
    "ct = pow(pt, e, n)\n",
    "\n",
    "print(f\"n = {n}\")\n",
    "print(f\"e = {e}\")\n",
    "print(f\"ct = {ct}\")\n",
    "\n",
    "pt = pow(ct, d, n)\n",
    "decrypted = long_to_bytes(pt)\n",
    "assert decrypted == flag\n",
    "```\n",
    "\n",
    "### output.txt\n",
    "```\n",
    "n = 742449129124467073921545687640895127535705902454369756401331\n",
    "e = 3\n",
    "ct = 39207274348578481322317340648475596807303160111338236677373\n",
    "```"
   ]
  },
  {
   "cell_type": "markdown",
   "id": "ecec3657",
   "metadata": {},
   "source": [
    "# Solution"
   ]
  },
  {
   "cell_type": "code",
   "execution_count": 7,
   "id": "11f88e96",
   "metadata": {},
   "outputs": [
    {
     "name": "stdout",
     "output_type": "stream",
     "text": [
      "Flag: crypto{N33d_b1g_pR1m35}\n"
     ]
    }
   ],
   "source": [
    "from sage.all import *\n",
    "from Crypto.Util.number import *\n",
    "\n",
    "n = 742449129124467073921545687640895127535705902454369756401331\n",
    "e = 3\n",
    "ct = 39207274348578481322317340648475596807303160111338236677373\n",
    "\n",
    "(p, _), (q, _) = factor(n)\n",
    "phi = (p - 1)*(q - 1)\n",
    "d = pow(e, -1, phi)\n",
    "\n",
    "m = pow(ct, d, n)\n",
    "flag = long_to_bytes(ZZ(m))\n",
    "print(\"Flag: \" + flag.decode())"
   ]
  },
  {
   "cell_type": "markdown",
   "id": "0c784d48",
   "metadata": {},
   "source": [
    "# Flag: crypto{N33d_b1g_pR1m35}"
   ]
  }
 ],
 "metadata": {
  "kernelspec": {
   "display_name": "SageMath 9.5",
   "language": "sage",
   "name": "sagemath"
  },
  "language_info": {
   "codemirror_mode": {
    "name": "ipython",
    "version": 3
   },
   "file_extension": ".py",
   "mimetype": "text/x-python",
   "name": "python",
   "nbconvert_exporter": "python",
   "pygments_lexer": "ipython3",
   "version": "3.10.6"
  }
 },
 "nbformat": 4,
 "nbformat_minor": 5
}
