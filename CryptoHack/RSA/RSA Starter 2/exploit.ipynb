{
 "cells": [
  {
   "cell_type": "markdown",
   "id": "db62c15d",
   "metadata": {},
   "source": [
    "# RSA Starter 2\n",
    "RSA encryption is modular exponentiation of a message with an exponent `e` and a modulus `N` which is normally a product of two primes: `N = p * q`.\n",
    "\n",
    "Together the exponent and modulus form an RSA \"public key\" `(N, e)`. The most common value for `e` is `0x10001` or `65537`.\n",
    "\n",
    "\"Encrypt\" the number `12` using the exponent `e = 65537` and the primes `p = 17` and `q = 23`. What number do you get as the ciphertext?"
   ]
  },
  {
   "cell_type": "markdown",
   "id": "d9b25b7f",
   "metadata": {},
   "source": [
    "# Solution"
   ]
  },
  {
   "cell_type": "code",
   "execution_count": 1,
   "id": "935effb4",
   "metadata": {},
   "outputs": [
    {
     "name": "stdout",
     "output_type": "stream",
     "text": [
      "301\n"
     ]
    }
   ],
   "source": [
    "m = 12\n",
    "e = 65537\n",
    "p, q = 17, 23\n",
    "\n",
    "# RSA encryption\n",
    "N = p * q\n",
    "c = pow(m, e, N)\n",
    "print(c)"
   ]
  },
  {
   "cell_type": "markdown",
   "id": "0e1c8830",
   "metadata": {},
   "source": [
    "# Flag: 301"
   ]
  }
 ],
 "metadata": {
  "kernelspec": {
   "display_name": "SageMath 9.5",
   "language": "sage",
   "name": "sagemath"
  },
  "language_info": {
   "codemirror_mode": {
    "name": "ipython",
    "version": 3
   },
   "file_extension": ".py",
   "mimetype": "text/x-python",
   "name": "python",
   "nbconvert_exporter": "python",
   "pygments_lexer": "ipython3",
   "version": "3.10.6"
  }
 },
 "nbformat": 4,
 "nbformat_minor": 5
}
