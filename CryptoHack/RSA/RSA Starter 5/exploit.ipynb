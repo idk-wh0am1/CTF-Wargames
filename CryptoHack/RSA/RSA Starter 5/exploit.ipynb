{
 "cells": [
  {
   "cell_type": "markdown",
   "id": "e1a06479",
   "metadata": {},
   "source": [
    "# RSA Starter 5\n",
    "I've encrypted a secret number for your eyes only using your public key parameters:\n",
    "\n",
    "`N = 882564595536224140639625987659416029426239230804614613279163`\n",
    "\n",
    "`e = 65537`\n",
    "\n",
    "Use the private key that you found for these parameters in the previous challenge to decrypt this ciphertext:\n",
    "\n",
    "`c = 77578995801157823671636298847186723593814843845525223303932`"
   ]
  },
  {
   "cell_type": "markdown",
   "id": "d3cac1ba",
   "metadata": {},
   "source": [
    "# Solution"
   ]
  },
  {
   "cell_type": "code",
   "execution_count": 4,
   "id": "dea2eba3",
   "metadata": {},
   "outputs": [
    {
     "name": "stdout",
     "output_type": "stream",
     "text": [
      "13371337\n"
     ]
    }
   ],
   "source": [
    "N = 882564595536224140639625987659416029426239230804614613279163\n",
    "e = 65537\n",
    "c = 77578995801157823671636298847186723593814843845525223303932\n",
    "\n",
    "# from previous challenge\n",
    "p = 857504083339712752489993810777\n",
    "q = 1029224947942998075080348647219\n",
    "assert N == p * q\n",
    "\n",
    "phi = (p - 1)*(q - 1)\n",
    "d = pow(e, -1, phi)\n",
    "m = pow(c, d, N)\n",
    "\n",
    "print(m)"
   ]
  },
  {
   "cell_type": "markdown",
   "id": "23ec9ab6",
   "metadata": {},
   "source": [
    "# Flag: 13371337"
   ]
  }
 ],
 "metadata": {
  "kernelspec": {
   "display_name": "SageMath 9.5",
   "language": "sage",
   "name": "sagemath"
  },
  "language_info": {
   "codemirror_mode": {
    "name": "ipython",
    "version": 3
   },
   "file_extension": ".py",
   "mimetype": "text/x-python",
   "name": "python",
   "nbconvert_exporter": "python",
   "pygments_lexer": "ipython3",
   "version": "3.10.6"
  }
 },
 "nbformat": 4,
 "nbformat_minor": 5
}
