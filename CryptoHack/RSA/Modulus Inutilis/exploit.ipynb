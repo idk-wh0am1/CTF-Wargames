{
 "cells": [
  {
   "cell_type": "markdown",
   "id": "3aa57090",
   "metadata": {},
   "source": [
    "# Modulus Inutilis\n",
    "\n",
    "My primes should be more than large enough now!\n",
    "\n",
    "Challenge files:\n",
    "  - [modulus_inutilis.py](https://cryptohack.org/static/challenges/modulus_inutilis_d2e0022b0165d99403eafeb0bea01231.py)\n",
    "  - [output.txt](https://cryptohack.org/static/challenges/output_30cff153b7432055fc947fc5abdb57d3.txt)"
   ]
  },
  {
   "cell_type": "markdown",
   "id": "f7564938",
   "metadata": {},
   "source": [
    "# Challenge overview\n",
    "\n",
    "### modulus_inutilis.py\n",
    "\n",
    "```python\n",
    "#!/usr/bin/env python3\n",
    "\n",
    "from Crypto.Util.number import getPrime, inverse, bytes_to_long, long_to_bytes\n",
    "\n",
    "e = 3\n",
    "d = -1\n",
    "\n",
    "while d == -1:\n",
    "    p = getPrime(1024)\n",
    "    q = getPrime(1024)\n",
    "    phi = (p - 1) * (q - 1)\n",
    "    d = inverse(e, phi)\n",
    "\n",
    "n = p * q\n",
    "\n",
    "flag = b\"XXXXXXXXXXXXXXXXXXXXXXX\"\n",
    "pt = bytes_to_long(flag)\n",
    "ct = pow(pt, e, n)\n",
    "\n",
    "print(f\"n = {n}\")\n",
    "print(f\"e = {e}\")\n",
    "print(f\"ct = {ct}\")\n",
    "\n",
    "pt = pow(ct, d, n)\n",
    "decrypted = long_to_bytes(pt)\n",
    "assert decrypted == flag\n",
    "```\n",
    "\n",
    "### output.txt\n",
    "\n",
    "```\n",
    "n = 17258212916191948536348548470938004244269544560039009244721959293554822498047075403658429865201816363311805874117705688359853941515579440852166618074161313773416434156467811969628473425365608002907061241714688204565170146117869742910273064909154666642642308154422770994836108669814632309362483307560217924183202838588431342622551598499747369771295105890359290073146330677383341121242366368309126850094371525078749496850520075015636716490087482193603562501577348571256210991732071282478547626856068209192987351212490642903450263288650415552403935705444809043563866466823492258216747445926536608548665086042098252335883\n",
    "e = 3\n",
    "ct = 243251053617903760309941844835411292373350655973075480264001352919865180151222189820473358411037759381328642957324889519192337152355302808400638052620580409813222660643570085177957\n",
    "```"
   ]
  },
  {
   "cell_type": "markdown",
   "id": "54a894e8",
   "metadata": {},
   "source": [
    "# Solution"
   ]
  },
  {
   "cell_type": "code",
   "execution_count": 3,
   "id": "1c6ae987",
   "metadata": {},
   "outputs": [
    {
     "name": "stdout",
     "output_type": "stream",
     "text": [
      "Flag: crypto{N33d_m04R_p4dd1ng}\n"
     ]
    }
   ],
   "source": [
    "from Crypto.Util.number import *\n",
    "\n",
    "n = 17258212916191948536348548470938004244269544560039009244721959293554822498047075403658429865201816363311805874117705688359853941515579440852166618074161313773416434156467811969628473425365608002907061241714688204565170146117869742910273064909154666642642308154422770994836108669814632309362483307560217924183202838588431342622551598499747369771295105890359290073146330677383341121242366368309126850094371525078749496850520075015636716490087482193603562501577348571256210991732071282478547626856068209192987351212490642903450263288650415552403935705444809043563866466823492258216747445926536608548665086042098252335883\n",
    "e = 3\n",
    "ct = 243251053617903760309941844835411292373350655973075480264001352919865180151222189820473358411037759381328642957324889519192337152355302808400638052620580409813222660643570085177957\n",
    "\n",
    "m = ZZ(ct).nth_root(e)\n",
    "flag = long_to_bytes(m)\n",
    "print(\"Flag: \" + flag.decode())"
   ]
  },
  {
   "cell_type": "markdown",
   "id": "8c70fd50",
   "metadata": {},
   "source": [
    "# Flag: crypto{N33d_m04R_p4dd1ng}"
   ]
  }
 ],
 "metadata": {
  "kernelspec": {
   "display_name": "SageMath 9.5",
   "language": "sage",
   "name": "sagemath"
  },
  "language_info": {
   "codemirror_mode": {
    "name": "ipython",
    "version": 3
   },
   "file_extension": ".py",
   "mimetype": "text/x-python",
   "name": "python",
   "nbconvert_exporter": "python",
   "pygments_lexer": "ipython3",
   "version": "3.10.6"
  }
 },
 "nbformat": 4,
 "nbformat_minor": 5
}
