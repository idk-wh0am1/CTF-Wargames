{
 "cells": [
  {
   "cell_type": "markdown",
   "id": "914fd1e5",
   "metadata": {},
   "source": [
    "# RSA Starter 3\n",
    "\n",
    "RSA relies on the difficulty of the factorisation of the modulus `N`. If the primes can be found then we can calculate the [Euler totient](https://leimao.github.io/article/RSA-Algorithm/) of `N` and thus decrypt the ciphertext.\n",
    "\n",
    "Given `N = p*q` and two primes:\n",
    "\n",
    "`p = 857504083339712752489993810777`\n",
    "\n",
    "`q = 1029224947942998075080348647219`\n",
    "\n",
    "What is the totient of `N`?"
   ]
  },
  {
   "cell_type": "markdown",
   "id": "ab0e1a2d",
   "metadata": {},
   "source": [
    "# Solution"
   ]
  },
  {
   "cell_type": "code",
   "execution_count": 1,
   "id": "5188e2f3",
   "metadata": {},
   "outputs": [
    {
     "name": "stdout",
     "output_type": "stream",
     "text": [
      "882564595536224140639625987657529300394956519977044270821168\n"
     ]
    }
   ],
   "source": [
    "p = 857504083339712752489993810777\n",
    "q = 1029224947942998075080348647219\n",
    "\n",
    "# Euler totient\n",
    "phi = (p - 1)*(q - 1)\n",
    "print(phi)"
   ]
  },
  {
   "cell_type": "markdown",
   "id": "ba8cd30a",
   "metadata": {},
   "source": [
    "# Flag: 882564595536224140639625987657529300394956519977044270821168"
   ]
  }
 ],
 "metadata": {
  "kernelspec": {
   "display_name": "SageMath 9.5",
   "language": "sage",
   "name": "sagemath"
  },
  "language_info": {
   "codemirror_mode": {
    "name": "ipython",
    "version": 3
   },
   "file_extension": ".py",
   "mimetype": "text/x-python",
   "name": "python",
   "nbconvert_exporter": "python",
   "pygments_lexer": "ipython3",
   "version": "3.10.6"
  }
 },
 "nbformat": 4,
 "nbformat_minor": 5
}
