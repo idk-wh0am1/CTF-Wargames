{
 "cells": [
  {
   "cell_type": "markdown",
   "id": "ba7bfc02",
   "metadata": {},
   "source": [
    "# Monoprime\n",
    "\n",
    "Why is everyone so obsessed with multiplying two primes for RSA. Why not just use one?\n",
    "\n",
    "Challenge files:\n",
    "  - [output.txt](https://cryptohack.org/static/challenges/output_086036e35349a406b94bfac9a7af6cca.txt)\n",
    "\n",
    "Resources:\n",
    "  - [Why do we need in RSA the modulus to be product of 2 primes?](https://crypto.stackexchange.com/questions/5170/why-do-we-need-in-rsa-the-modulus-to-be-product-of-2-primes)"
   ]
  },
  {
   "cell_type": "markdown",
   "id": "79d96c49",
   "metadata": {},
   "source": [
    "# Challenge overview\n",
    "\n",
    "### output.txt\n",
    "\n",
    "```\n",
    "n = 171731371218065444125482536302245915415603318380280392385291836472299752747934607246477508507827284075763910264995326010251268493630501989810855418416643352631102434317900028697993224868629935657273062472544675693365930943308086634291936846505861203914449338007760990051788980485462592823446469606824421932591                                                                  \n",
    "e = 65537\n",
    "ct = 161367550346730604451454756189028938964941280347662098798775466019463375610700074840105776873791605070092554650190486030367121011578171525759600774739890458414593857709994072516290998135846956596662071379067305011746842247628316996977338024343628757374524136260758515864509435302781735938531030576289086798942  \n",
    "```"
   ]
  },
  {
   "cell_type": "markdown",
   "id": "67c97a76",
   "metadata": {},
   "source": [
    "# Solution"
   ]
  },
  {
   "cell_type": "code",
   "execution_count": 6,
   "id": "7f0ebbb7",
   "metadata": {},
   "outputs": [
    {
     "name": "stdout",
     "output_type": "stream",
     "text": [
      "Flag: crypto{0n3_pr1m3_41n7_pr1m3_l0l}\n"
     ]
    }
   ],
   "source": [
    "from Crypto.Util.number import *\n",
    "\n",
    "n = 171731371218065444125482536302245915415603318380280392385291836472299752747934607246477508507827284075763910264995326010251268493630501989810855418416643352631102434317900028697993224868629935657273062472544675693365930943308086634291936846505861203914449338007760990051788980485462592823446469606824421932591                                                                  \n",
    "e = 65537\n",
    "ct = 161367550346730604451454756189028938964941280347662098798775466019463375610700074840105776873791605070092554650190486030367121011578171525759600774739890458414593857709994072516290998135846956596662071379067305011746842247628316996977338024343628757374524136260758515864509435302781735938531030576289086798942\n",
    "\n",
    "assert is_prime(n)\n",
    "d = pow(e, -1, n - 1)\n",
    "m = pow(ct, d, n)\n",
    "\n",
    "flag = long_to_bytes(ZZ(m))\n",
    "print(\"Flag: \" + flag.decode())"
   ]
  },
  {
   "cell_type": "markdown",
   "id": "4de19b8f",
   "metadata": {},
   "source": [
    "# Flag: crypto{0n3_pr1m3_41n7_pr1m3_l0l}"
   ]
  }
 ],
 "metadata": {
  "kernelspec": {
   "display_name": "SageMath 9.5",
   "language": "sage",
   "name": "sagemath"
  },
  "language_info": {
   "codemirror_mode": {
    "name": "ipython",
    "version": 3
   },
   "file_extension": ".py",
   "mimetype": "text/x-python",
   "name": "python",
   "nbconvert_exporter": "python",
   "pygments_lexer": "ipython3",
   "version": "3.10.6"
  }
 },
 "nbformat": 4,
 "nbformat_minor": 5
}
