{
 "cells": [
  {
   "cell_type": "markdown",
   "id": "2288f469",
   "metadata": {},
   "source": [
    "# RSA Starter 1\n",
    "All operations in RSA involve [modular exponentiation](https://en.wikipedia.org/wiki/Modular_exponentiation).\n",
    "\n",
    "Modular exponentiation is an operation that is used extensively in cryptography and is normally written like: $2^{10} \\pmod{17}$\n",
    "\n",
    "You can think of this as raising some number to a certain power ($2^{10} = 1024$), and then taking the remainder of the division by some other number (1024 mod 17 = 4). In Python there's a built-in operator for performing this operation: `pow(base, exponent, modulus)`\n",
    "\n",
    "In RSA, modular exponentiation, together with the problem of prime factorisation, helps us to build a \"[trapdoor function](https://en.wikipedia.org/wiki/Trapdoor_function)\". This is a function that is easy to compute in one direction, but hard to do in reverse unless you have the right information. It allows us to encrypt a message, and only the person with the key can perform the inverse operation to decrypt it.\n",
    "\n",
    "Find the solution to $101^{17} \\pmod{22663}$"
   ]
  },
  {
   "cell_type": "markdown",
   "id": "136f659b",
   "metadata": {},
   "source": [
    "# Solution"
   ]
  },
  {
   "cell_type": "code",
   "execution_count": 3,
   "id": "a3b474d2",
   "metadata": {},
   "outputs": [
    {
     "name": "stdout",
     "output_type": "stream",
     "text": [
      "19906\n"
     ]
    }
   ],
   "source": [
    "answer = pow(101, 17, 22663)\n",
    "print(answer)"
   ]
  },
  {
   "cell_type": "markdown",
   "id": "fe4bb28a",
   "metadata": {},
   "source": [
    "# Flag: 19906"
   ]
  }
 ],
 "metadata": {
  "kernelspec": {
   "display_name": "SageMath 9.5",
   "language": "sage",
   "name": "sagemath"
  },
  "language_info": {
   "codemirror_mode": {
    "name": "ipython",
    "version": 3
   },
   "file_extension": ".py",
   "mimetype": "text/x-python",
   "name": "python",
   "nbconvert_exporter": "python",
   "pygments_lexer": "ipython3",
   "version": "3.10.6"
  }
 },
 "nbformat": 4,
 "nbformat_minor": 5
}
