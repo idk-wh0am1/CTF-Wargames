{
 "cells": [
  {
   "cell_type": "markdown",
   "id": "3777ea24",
   "metadata": {},
   "source": [
    "# RSA Starter 4\n",
    "\n",
    "The private key `d` is used to decrypt ciphertexts created with the corresponding public key (it's also used to \"sign\" a message but we'll get to that later).\n",
    "\n",
    "The private key is the secret piece of information or \"trapdoor\" which allows us to quickly invert the encryption function. If RSA is implemented well, if you do not have the private key the fastest way to decrypt the ciphertext is to first factorise the modulus.\n",
    "\n",
    "In RSA the private key is the [modular multiplicative inverse](https://en.wikipedia.org/wiki/Modular_multiplicative_inverse) of the exponent `e` modulo the totient of `N`.\n",
    "\n",
    "Given the two primes:\n",
    "\n",
    "`p = 857504083339712752489993810777`\n",
    "\n",
    "`q = 1029224947942998075080348647219`\n",
    "\n",
    "and the exponent:\n",
    "\n",
    "`e = 65537`\n",
    "\n",
    "What is the private key `d`?"
   ]
  },
  {
   "cell_type": "markdown",
   "id": "793978e6",
   "metadata": {},
   "source": [
    "# Solution"
   ]
  },
  {
   "cell_type": "code",
   "execution_count": 1,
   "id": "8f80db66",
   "metadata": {},
   "outputs": [
    {
     "name": "stdout",
     "output_type": "stream",
     "text": [
      "121832886702415731577073962957377780195510499965398469843281\n"
     ]
    }
   ],
   "source": [
    "p = 857504083339712752489993810777\n",
    "q = 1029224947942998075080348647219\n",
    "e = 65537\n",
    "\n",
    "# Euler totient\n",
    "phi = (p - 1)*(q - 1)\n",
    "d = pow(e, -1, phi)\n",
    "print(d)"
   ]
  },
  {
   "cell_type": "markdown",
   "id": "49fcaaef",
   "metadata": {},
   "source": [
    "# Flag: 121832886702415731577073962957377780195510499965398469843281"
   ]
  }
 ],
 "metadata": {
  "kernelspec": {
   "display_name": "SageMath 9.5",
   "language": "sage",
   "name": "sagemath"
  },
  "language_info": {
   "codemirror_mode": {
    "name": "ipython",
    "version": 3
   },
   "file_extension": ".py",
   "mimetype": "text/x-python",
   "name": "python",
   "nbconvert_exporter": "python",
   "pygments_lexer": "ipython3",
   "version": "3.10.6"
  }
 },
 "nbformat": 4,
 "nbformat_minor": 5
}
