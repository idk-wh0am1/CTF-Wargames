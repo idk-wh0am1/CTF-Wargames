{
 "cells": [
  {
   "attachments": {},
   "cell_type": "markdown",
   "metadata": {},
   "source": [
    "# Modes of Operation Starter\n",
    "\n",
    "The previous set of challenges showed how AES performs a keyed permutation on a block of data. In practice, we need to encrypt messages much longer than a single block. `A mode of operation` describes how to use a cipher like AES on longer messages.\n",
    "\n",
    "All modes have serious weaknesses when used incorrectly. The challenges in this category take you to a different section of the website where you can interact with APIs and exploit those weaknesses. Get yourself acquainted with the interface and use it to take your next flag!\n",
    "\n",
    "Play at https://aes.cryptohack.org/block_cipher_starter"
   ]
  },
  {
   "attachments": {},
   "cell_type": "markdown",
   "metadata": {},
   "source": [
    "## Challenge overview\n",
    "\n",
    "### source.py\n",
    "\n",
    "```python\n",
    "from Crypto.Cipher import AES\n",
    "\n",
    "\n",
    "KEY = ?\n",
    "FLAG = ?\n",
    "\n",
    "\n",
    "@chal.route('/block_cipher_starter/decrypt/<ciphertext>/')\n",
    "def decrypt(ciphertext):\n",
    "    ciphertext = bytes.fromhex(ciphertext)\n",
    "\n",
    "    cipher = AES.new(KEY, AES.MODE_ECB)\n",
    "    try:\n",
    "        decrypted = cipher.decrypt(ciphertext)\n",
    "    except ValueError as e:\n",
    "        return {\"error\": str(e)}\n",
    "\n",
    "    return {\"plaintext\": decrypted.hex()}\n",
    "\n",
    "\n",
    "@chal.route('/block_cipher_starter/encrypt_flag/')\n",
    "def encrypt_flag():\n",
    "    cipher = AES.new(KEY, AES.MODE_ECB)\n",
    "    encrypted = cipher.encrypt(FLAG.encode())\n",
    "\n",
    "    return {\"ciphertext\": encrypted.hex()}\n",
    "```"
   ]
  },
  {
   "attachments": {},
   "cell_type": "markdown",
   "metadata": {},
   "source": [
    "## Solution"
   ]
  },
  {
   "cell_type": "code",
   "execution_count": 4,
   "metadata": {},
   "outputs": [
    {
     "name": "stdout",
     "output_type": "stream",
     "text": [
      "Flag: crypto{bl0ck_c1ph3r5_4r3_f457_!}\n"
     ]
    }
   ],
   "source": [
    "import requests\n",
    "\n",
    "url = \"https://aes.cryptohack.org/block_cipher_starter\"\n",
    "\n",
    "def encrypt_flag():\n",
    "    return requests.get(f\"{url}/encrypt_flag/\").json()['ciphertext']\n",
    "\n",
    "def decrypt(ciphertext):\n",
    "    plaintext =  requests.get(f\"{url}/decrypt/{ciphertext}/\").json()['plaintext']\n",
    "    return bytes.fromhex(plaintext)\n",
    "\n",
    "enc_flag = encrypt_flag()\n",
    "flag = decrypt(enc_flag)\n",
    "\n",
    "print(\"Flag: \" + flag.decode())"
   ]
  },
  {
   "attachments": {},
   "cell_type": "markdown",
   "metadata": {},
   "source": [
    "### Flag: crypto{bl0ck_c1ph3r5_4r3_f457_!}"
   ]
  },
  {
   "attachments": {},
   "cell_type": "markdown",
   "metadata": {},
   "source": [
    "# Passwords as Keys\n",
    "\n",
    "It is essential that keys in symmetric-key algorithms are random bytes, instead of passwords or other predictable data. The random bytes should be generated using a cryptographically-secure pseudorandom number generator (CSPRNG). If the keys are predictable in any way, then the security level of the cipher is reduced and it may be possible for an attacker who gets access to the ciphertext to decrypt it.\n",
    "\n",
    "Just because a key looks like it is formed of random bytes, does not mean that it necessarily is. In this case the key has been derived from a simple password using a hashing function, which makes the ciphertext crackable.\n",
    "\n",
    "For this challenge you may script your HTTP requests to the endpoints, or alternatively attack the ciphertext offline. Good luck!\n",
    "\n",
    "Play at https://aes.cryptohack.org/passwords_as_keys"
   ]
  },
  {
   "attachments": {},
   "cell_type": "markdown",
   "metadata": {},
   "source": [
    "## Challenge overview\n",
    "\n",
    "### source.py\n",
    "\n",
    "```python\n",
    "from Crypto.Cipher import AES\n",
    "import hashlib\n",
    "import random\n",
    "\n",
    "\n",
    "# /usr/share/dict/words from\n",
    "# https://gist.githubusercontent.com/wchargin/8927565/raw/d9783627c731268fb2935a731a618aa8e95cf465/words\n",
    "with open(\"/usr/share/dict/words\") as f:\n",
    "    words = [w.strip() for w in f.readlines()]\n",
    "keyword = random.choice(words)\n",
    "\n",
    "KEY = hashlib.md5(keyword.encode()).digest()\n",
    "FLAG = ?\n",
    "\n",
    "\n",
    "@chal.route('/passwords_as_keys/decrypt/<ciphertext>/<password_hash>/')\n",
    "def decrypt(ciphertext, password_hash):\n",
    "    ciphertext = bytes.fromhex(ciphertext)\n",
    "    key = bytes.fromhex(password_hash)\n",
    "\n",
    "    cipher = AES.new(key, AES.MODE_ECB)\n",
    "    try:\n",
    "        decrypted = cipher.decrypt(ciphertext)\n",
    "    except ValueError as e:\n",
    "        return {\"error\": str(e)}\n",
    "\n",
    "    return {\"plaintext\": decrypted.hex()}\n",
    "\n",
    "\n",
    "@chal.route('/passwords_as_keys/encrypt_flag/')\n",
    "def encrypt_flag():\n",
    "    cipher = AES.new(KEY, AES.MODE_ECB)\n",
    "    encrypted = cipher.encrypt(FLAG.encode())\n",
    "\n",
    "    return {\"ciphertext\": encrypted.hex()}\n",
    "```"
   ]
  },
  {
   "attachments": {},
   "cell_type": "markdown",
   "metadata": {},
   "source": [
    "## Solution"
   ]
  },
  {
   "cell_type": "code",
   "execution_count": 5,
   "metadata": {},
   "outputs": [
    {
     "name": "stdout",
     "output_type": "stream",
     "text": [
      "Flag: crypto{k3y5__r__n07__p455w0rdz?}\n"
     ]
    }
   ],
   "source": [
    "import hashlib\n",
    "import requests\n",
    "from Crypto.Cipher import AES\n",
    "\n",
    "def encrypt_flag():\n",
    "    url = \"https://aes.cryptohack.org/passwords_as_keys\"\n",
    "    return bytes.fromhex(requests.get(f\"{url}/encrypt_flag/\").json()[\"ciphertext\"])\n",
    "\n",
    "with open(\"./words\", \"r\") as f:\n",
    "    words = [w.strip() for w in f.readlines()]\n",
    "    f.close()\n",
    "\n",
    "enc_flag = encrypt_flag()\n",
    "for keyword in words:\n",
    "    KEY = hashlib.md5(keyword.encode()).digest()\n",
    "    cipher = AES.new(KEY, AES.MODE_ECB)\n",
    "    \n",
    "    flag = cipher.decrypt(enc_flag)\n",
    "    if b'crypto' in flag:\n",
    "        print(\"Flag: \" + flag.decode())\n",
    "        break    "
   ]
  },
  {
   "attachments": {},
   "cell_type": "markdown",
   "metadata": {},
   "source": [
    "### Flag: crypto{k3y5__r__n07__p455w0rdz?}"
   ]
  }
 ],
 "metadata": {
  "kernelspec": {
   "display_name": "Python 3",
   "language": "python",
   "name": "python3"
  },
  "language_info": {
   "codemirror_mode": {
    "name": "ipython",
    "version": 3
   },
   "file_extension": ".py",
   "mimetype": "text/x-python",
   "name": "python",
   "nbconvert_exporter": "python",
   "pygments_lexer": "ipython3",
   "version": "3.10.6"
  },
  "orig_nbformat": 4
 },
 "nbformat": 4,
 "nbformat_minor": 2
}
